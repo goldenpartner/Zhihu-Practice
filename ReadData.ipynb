{
 "cells": [
  {
   "cell_type": "code",
   "execution_count": null,
   "metadata": {
    "collapsed": false
   },
   "outputs": [],
   "source": [
    "import pandas as pd\n",
    "import numpy\n",
    "from sklearn.model_selection import train_test_split\n",
    "import matplotlib.pyplot as plt \n",
    "import gc"
   ]
  },
  {
   "cell_type": "markdown",
   "metadata": {},
   "source": [
    "###### "
   ]
  },
  {
   "cell_type": "markdown",
   "metadata": {},
   "source": [
    "If an error occurs when executing import 'train_test_split', please upgrade scikit-learn by executing the following command:\n",
    "    Scripts\\conda update scikit-learn \n",
    "\n",
    "pd._version.get_versions()\n",
    "\n",
    "{'dirty': False,\n",
    " 'error': None,\n",
    " 'full-revisionid': '87b0f4dc1e91571cc4dd933b7cb181b99606ad20',\n",
    " 'version': '0.18.1'}\n",
    " \n",
    " numpy.version.version\n",
    " \n",
    " '1.12.1'\n",
    " \n",
    " "
   ]
  },
  {
   "cell_type": "code",
   "execution_count": null,
   "metadata": {
    "collapsed": false
   },
   "outputs": [],
   "source": [
    "df_topics = pd.read_csv('ieee_zhihu_cup/topic_info.txt', header=None, names=['topic_id', 'pid', 'cn', 'wn', 'cd', 'wd'],sep='\\t')\n",
    "df_topics.head(5)"
   ]
  },
  {
   "cell_type": "code",
   "execution_count": null,
   "metadata": {
    "collapsed": true
   },
   "outputs": [],
   "source": [
    "df_question_train_set = pd.read_csv('ieee_zhihu_cup/question_train_set.txt', header=None, names=['question_id', 'ct', 'wt', 'wn', 'cd', 'wd'],sep='\\t')"
   ]
  },
  {
   "cell_type": "code",
   "execution_count": null,
   "metadata": {
    "collapsed": true
   },
   "outputs": [],
   "source": [
    "df_question_eval_set = pd.read_csv('ieee_zhihu_cup/question_eval_set.txt', header=None, names=['question_id', 'ct', 'wt', 'wn', 'cd', 'wd'],sep='\\t')"
   ]
  },
  {
   "cell_type": "code",
   "execution_count": null,
   "metadata": {
    "collapsed": false
   },
   "outputs": [],
   "source": [
    "df_topics.ix[df_topics['pid'].isnull()].head(5)"
   ]
  },
  {
   "cell_type": "markdown",
   "metadata": {},
   "source": [
    "### Add index for question_id in train set\n",
    "### Add index for question_id in evaluation set"
   ]
  },
  {
   "cell_type": "code",
   "execution_count": null,
   "metadata": {
    "collapsed": true
   },
   "outputs": [],
   "source": [
    "idx_question_train_set_qid = df_question_train_set.set_index(['question_id']).index\n",
    "idx_question_eval_set_qid  = df_question_eval_set.set_index(['question_id']).index\n"
   ]
  },
  {
   "cell_type": "markdown",
   "metadata": {},
   "source": [
    "### Check if train set and test set have any repeats"
   ]
  },
  {
   "cell_type": "code",
   "execution_count": null,
   "metadata": {
    "collapsed": false
   },
   "outputs": [],
   "source": [
    "df_question_train_set[idx_question_train_set_qid.isin(idx_question_eval_set_qid)]\n"
   ]
  },
  {
   "cell_type": "markdown",
   "metadata": {},
   "source": [
    "### Pratice the folllowing Pandas usage, study properties of topics:\n",
    "\n",
    "1. Find all topics whose parent is NaN and call them class one topics\n",
    "\n",
    "2. Find all topics whose parent contains a class one topic and call them class two topics\n",
    "\n",
    "3. Find all topics whose parent contains a class two topic and call them class three topics\n",
    "\n",
    "4. Count all classes of topics \n",
    "\n",
    "5. Find all topics whose title has less than three characters and show the count"
   ]
  },
  {
   "cell_type": "code",
   "execution_count": null,
   "metadata": {
    "collapsed": true
   },
   "outputs": [],
   "source": [
    "class_one_topic = df_topics.ix[df_topics['pid'].isnull()]\n",
    "class_one_id = class_one_topic[['topic_id']]"
   ]
  },
  {
   "cell_type": "code",
   "execution_count": null,
   "metadata": {
    "collapsed": true
   },
   "outputs": [],
   "source": [
    "def extract_class(pid_data, data):\n",
    "    temp = []\n",
    "    for pid in pid_data.topic_id:\n",
    "        pid = str(pid)\n",
    "        partial = data.ix[data['pid'] == pid]\n",
    "        if not partial.empty:\n",
    "            temp.append(partial)\n",
    "    print (temp)\n",
    "    return pd.concat(partial, ignore_index=True)"
   ]
  },
  {
   "cell_type": "code",
   "execution_count": null,
   "metadata": {
    "collapsed": false
   },
   "outputs": [],
   "source": [
    "test = extract_class(class_one_id, df_topics)"
   ]
  },
  {
   "cell_type": "code",
   "execution_count": null,
   "metadata": {
    "collapsed": false
   },
   "outputs": [],
   "source": [
    "print(test)"
   ]
  },
  {
   "cell_type": "markdown",
   "metadata": {},
   "source": [
    "### Find questions with specific topics\n",
    "1. Find all questions that belong to class one topics \n",
    "2. Find all questions that belong to class two topics"
   ]
  },
  {
   "cell_type": "code",
   "execution_count": null,
   "metadata": {
    "collapsed": true
   },
   "outputs": [],
   "source": []
  },
  {
   "cell_type": "markdown",
   "metadata": {
    "collapsed": true
   },
   "source": [
    "\n",
    "\n",
    "    "
   ]
  },
  {
   "cell_type": "markdown",
   "metadata": {},
   "source": [
    "### Find questions by the inherit relations of topics\n",
    "1. Giving a topic, find all subtopics of it\n",
    "2. Giving a topic, find all questions of it, and questions of its subtopics (recursively to the end)\n",
    "3. Find all topics without a subtopic"
   ]
  },
  {
   "cell_type": "code",
   "execution_count": null,
   "metadata": {
    "collapsed": true
   },
   "outputs": [],
   "source": []
  },
  {
   "cell_type": "markdown",
   "metadata": {},
   "source": [
    "split train set to two, 60% for train and 40% for test"
   ]
  },
  {
   "cell_type": "code",
   "execution_count": null,
   "metadata": {
    "collapsed": false
   },
   "outputs": [],
   "source": [
    "train, test = train_test_split(df_question_train_set, test_size = 0.4)\n",
    "print(df_question_train_set.size, train.size, test.size)"
   ]
  },
  {
   "cell_type": "markdown",
   "metadata": {},
   "source": [
    "### Pandas memory usage and python garbage collection\n",
    "\n",
    "#### Delete df_question_train_set for saving memory space, but run\n",
    "    del df_question_train_set \n",
    "#### won't reduce memory usage, this is because train test and del df_question_train_set are using the same memory space.\n",
    "\n",
    "#### Run the follow lines:\n",
    "    del df_question_train_set\n",
    "    del train\n",
    "    del test\n",
    "#### and \n",
    "    gc.collect()\n",
    "#### can actually reduce memory usage"
   ]
  },
  {
   "cell_type": "markdown",
   "metadata": {
    "collapsed": true
   },
   "source": [
    "### Check if words in topic title occuer in question title, and count the occurance"
   ]
  },
  {
   "cell_type": "code",
   "execution_count": null,
   "metadata": {
    "collapsed": true
   },
   "outputs": [],
   "source": []
  },
  {
   "cell_type": "markdown",
   "metadata": {},
   "source": [
    "### Check if words in topic title occuer in question description, and count the occurance"
   ]
  },
  {
   "cell_type": "code",
   "execution_count": null,
   "metadata": {
    "collapsed": true
   },
   "outputs": [],
   "source": []
  },
  {
   "cell_type": "markdown",
   "metadata": {
    "collapsed": true
   },
   "source": [
    "### Jupyter Notebook hint\n",
    "> click help->keyboart shotcuts can access the chart of hot keys, frequency of using hot keys can reflex a person's professional level. It is not necessary to remember them all at once, take it slow and learn it continuously. For example, you can start with learning how to convert a block between code and markdown"
   ]
  },
  {
   "cell_type": "markdown",
   "metadata": {},
   "source": [
    "### References：\n",
    "\n",
    "http://blog.csdn.net/u013713117/article/details/55049808\n",
    "\n",
    "https://www.kaggle.com/c/facebook-recruiting-iii-keyword-extraction/discussion/6650"
   ]
  },
  {
   "cell_type": "code",
   "execution_count": null,
   "metadata": {
    "collapsed": true
   },
   "outputs": [],
   "source": []
  }
 ],
 "metadata": {
  "anaconda-cloud": {},
  "kernelspec": {
   "display_name": "Python [default]",
   "language": "python",
   "name": "python3"
  },
  "language_info": {
   "codemirror_mode": {
    "name": "ipython",
    "version": 3
   },
   "file_extension": ".py",
   "mimetype": "text/x-python",
   "name": "python",
   "nbconvert_exporter": "python",
   "pygments_lexer": "ipython3",
   "version": "3.5.2"
  }
 },
 "nbformat": 4,
 "nbformat_minor": 1
}
