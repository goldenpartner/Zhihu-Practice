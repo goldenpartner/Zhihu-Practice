{
 "cells": [
  {
   "cell_type": "code",
   "execution_count": 1,
   "metadata": {
    "collapsed": false
   },
   "outputs": [],
   "source": [
    "import pandas as pd\n",
    "import numpy as np\n",
    "from sklearn.model_selection import train_test_split\n",
    "import matplotlib.pyplot as plt \n",
    "import gc"
   ]
  },
  {
   "cell_type": "markdown",
   "metadata": {},
   "source": [
    "如果import train_test_split 时出错，请升级 scikit-learn\n",
    "Scripts\\conda update scikit-learn \n",
    "\n",
    "pd._version.get_versions()\n",
    "\n",
    "{'dirty': False,\n",
    " 'error': None,\n",
    " 'full-revisionid': '87b0f4dc1e91571cc4dd933b7cb181b99606ad20',\n",
    " 'version': '0.18.1'}\n",
    " \n",
    " numpy.version.version\n",
    " \n",
    " '1.12.1'\n",
    " \n",
    " "
   ]
  },
  {
   "cell_type": "code",
   "execution_count": 2,
   "metadata": {
    "collapsed": false
   },
   "outputs": [
    {
     "data": {
      "text/html": [
       "<div>\n",
       "<table border=\"1\" class=\"dataframe\">\n",
       "  <thead>\n",
       "    <tr style=\"text-align: right;\">\n",
       "      <th></th>\n",
       "      <th>topic_id</th>\n",
       "      <th>pid</th>\n",
       "      <th>cn</th>\n",
       "      <th>wn</th>\n",
       "      <th>cd</th>\n",
       "      <th>wd</th>\n",
       "    </tr>\n",
       "  </thead>\n",
       "  <tbody>\n",
       "    <tr>\n",
       "      <th>0</th>\n",
       "      <td>738845194850773558</td>\n",
       "      <td>-5833678375673307423</td>\n",
       "      <td>c0,c1</td>\n",
       "      <td>w0</td>\n",
       "      <td>c0,c1,c2,c3,c4,c5,c6,c7,c0,c1,c8,c9,c10,c11,c1...</td>\n",
       "      <td>w0,w1,w2,w3,w4,w5,w6,w7,w8,w9,w10,w11,w12,w13,...</td>\n",
       "    </tr>\n",
       "    <tr>\n",
       "      <th>1</th>\n",
       "      <td>3738968195649774859</td>\n",
       "      <td>2027693463582123305</td>\n",
       "      <td>c39,c40</td>\n",
       "      <td>w24</td>\n",
       "      <td>c41,c42,c43,c39,c40,c4,c44,c45,c46,c47,c48,c49...</td>\n",
       "      <td>w24,w25,w26,w27,w28,w6,w29,w30,w11,w31,w32,w33...</td>\n",
       "    </tr>\n",
       "    <tr>\n",
       "      <th>2</th>\n",
       "      <td>4738849194894773882</td>\n",
       "      <td>1127459907694805235</td>\n",
       "      <td>c172,c31,c0,c1</td>\n",
       "      <td>w102</td>\n",
       "      <td>NaN</td>\n",
       "      <td>NaN</td>\n",
       "    </tr>\n",
       "    <tr>\n",
       "      <th>3</th>\n",
       "      <td>7739004195693774975</td>\n",
       "      <td>2904932941037075699,1160326435131345730,725917...</td>\n",
       "      <td>c39,c40,c5,c173</td>\n",
       "      <td>w103</td>\n",
       "      <td>c39,c40,c23,c21,c174,c74,c5,c173,c17,c35,c39,c...</td>\n",
       "      <td>w104,w105,w11,w21,w24,w6,w106,w23,w54,w24,w107...</td>\n",
       "    </tr>\n",
       "    <tr>\n",
       "      <th>4</th>\n",
       "      <td>-7261194805221226386</td>\n",
       "      <td>-5833678375673307423</td>\n",
       "      <td>c36,c31,c45,c237</td>\n",
       "      <td>w148</td>\n",
       "      <td>c238,c239</td>\n",
       "      <td>w149,w150</td>\n",
       "    </tr>\n",
       "  </tbody>\n",
       "</table>\n",
       "</div>"
      ],
      "text/plain": [
       "              topic_id                                                pid  \\\n",
       "0   738845194850773558                               -5833678375673307423   \n",
       "1  3738968195649774859                                2027693463582123305   \n",
       "2  4738849194894773882                                1127459907694805235   \n",
       "3  7739004195693774975  2904932941037075699,1160326435131345730,725917...   \n",
       "4 -7261194805221226386                               -5833678375673307423   \n",
       "\n",
       "                 cn    wn                                                 cd  \\\n",
       "0             c0,c1    w0  c0,c1,c2,c3,c4,c5,c6,c7,c0,c1,c8,c9,c10,c11,c1...   \n",
       "1           c39,c40   w24  c41,c42,c43,c39,c40,c4,c44,c45,c46,c47,c48,c49...   \n",
       "2    c172,c31,c0,c1  w102                                                NaN   \n",
       "3   c39,c40,c5,c173  w103  c39,c40,c23,c21,c174,c74,c5,c173,c17,c35,c39,c...   \n",
       "4  c36,c31,c45,c237  w148                                          c238,c239   \n",
       "\n",
       "                                                  wd  \n",
       "0  w0,w1,w2,w3,w4,w5,w6,w7,w8,w9,w10,w11,w12,w13,...  \n",
       "1  w24,w25,w26,w27,w28,w6,w29,w30,w11,w31,w32,w33...  \n",
       "2                                                NaN  \n",
       "3  w104,w105,w11,w21,w24,w6,w106,w23,w54,w24,w107...  \n",
       "4                                          w149,w150  "
      ]
     },
     "execution_count": 2,
     "metadata": {},
     "output_type": "execute_result"
    }
   ],
   "source": [
    "df_topics = pd.read_csv('ieee_zhihu_cup/topic_info.txt', header=None, names=['topic_id', 'pid', 'cn', 'wn', 'cd', 'wd'],sep='\\t')\n",
    "df_topics.head(5)"
   ]
  },
  {
   "cell_type": "code",
   "execution_count": 3,
   "metadata": {
    "collapsed": false
   },
   "outputs": [
    {
     "data": {
      "text/plain": [
       "1999"
      ]
     },
     "execution_count": 3,
     "metadata": {},
     "output_type": "execute_result"
    }
   ],
   "source": [
    "len(df_topics)"
   ]
  },
  {
   "cell_type": "code",
   "execution_count": 4,
   "metadata": {
    "collapsed": true
   },
   "outputs": [],
   "source": [
    "df_question_train_set = pd.read_csv('ieee_zhihu_cup/question_train_set.txt', header=None, names=['question_id', 'ct', 'wt', 'wn', 'cd', 'wd'],sep='\\t')"
   ]
  },
  {
   "cell_type": "code",
   "execution_count": 5,
   "metadata": {
    "collapsed": false
   },
   "outputs": [
    {
     "data": {
      "text/html": [
       "<div>\n",
       "<table border=\"1\" class=\"dataframe\">\n",
       "  <thead>\n",
       "    <tr style=\"text-align: right;\">\n",
       "      <th></th>\n",
       "      <th>question_id</th>\n",
       "      <th>ct</th>\n",
       "      <th>wt</th>\n",
       "      <th>wn</th>\n",
       "      <th>cd</th>\n",
       "      <th>wd</th>\n",
       "    </tr>\n",
       "  </thead>\n",
       "  <tbody>\n",
       "    <tr>\n",
       "      <th>0</th>\n",
       "      <td>6555699376639805223</td>\n",
       "      <td>c324,c39,c40,c155,c180,c180,c181,c17,c4,c1153,...</td>\n",
       "      <td>w305,w13549,w22752,w11,w7225,w2565,w1106,w16,w...</td>\n",
       "      <td>c335,c101,c611,c189,c97,c144,c147,c101,c15,c76...</td>\n",
       "      <td>w231,w54,w1681,w54,w11506,w5714,w7,w54,w744,w1...</td>\n",
       "      <td>NaN</td>\n",
       "    </tr>\n",
       "    <tr>\n",
       "      <th>1</th>\n",
       "      <td>2887834264226772863</td>\n",
       "      <td>c44,c110,c101,c286,c106,c150,c101,c892,c632,c1...</td>\n",
       "      <td>w377,w54,w285,w57,w349,w54,w108215,w6,w47986,w...</td>\n",
       "      <td>c1265,c518,c74,c131,c274,c57,c768,c769,c368,c3...</td>\n",
       "      <td>w12508,w1380,w72,w27045,w276,w111</td>\n",
       "      <td>NaN</td>\n",
       "    </tr>\n",
       "    <tr>\n",
       "      <th>2</th>\n",
       "      <td>-2687466858632038806</td>\n",
       "      <td>c15,c768,c769,c1363,c650,c1218,c2361,c11,c90,c...</td>\n",
       "      <td>w875,w15450,w42394,w15863,w6,w95421,w25,w803,w...</td>\n",
       "      <td>c693,c100,c279,c99,c189,c532,c101,c189,c145,c1...</td>\n",
       "      <td>w140340,w54,w48398,w54,w140341,w54,w12856,w54,...</td>\n",
       "      <td>NaN</td>\n",
       "    </tr>\n",
       "    <tr>\n",
       "      <th>3</th>\n",
       "      <td>-5698296155734268</td>\n",
       "      <td>c473,c1528,c528,c428,c295,c15,c101,c188,c146,c...</td>\n",
       "      <td>w8646,w2744,w1462,w9,w54,w138,w54,w50,w110,w14...</td>\n",
       "      <td>NaN</td>\n",
       "      <td>NaN</td>\n",
       "      <td>NaN</td>\n",
       "    </tr>\n",
       "    <tr>\n",
       "      <th>4</th>\n",
       "      <td>-6719100304248915192</td>\n",
       "      <td>c190,c147,c105,c219,c220,c101,c647,c219,c220,c...</td>\n",
       "      <td>w380,w54,w674,w133,w54,w134,w614,w54,w929,w307...</td>\n",
       "      <td>c644,c1212,c253,c199,c431,c452,c424,c207,c2,c1...</td>\n",
       "      <td>w4821,w1301,w16003,w928,w1961,w2565,w50803,w11...</td>\n",
       "      <td>NaN</td>\n",
       "    </tr>\n",
       "  </tbody>\n",
       "</table>\n",
       "</div>"
      ],
      "text/plain": [
       "           question_id                                                 ct  \\\n",
       "0  6555699376639805223  c324,c39,c40,c155,c180,c180,c181,c17,c4,c1153,...   \n",
       "1  2887834264226772863  c44,c110,c101,c286,c106,c150,c101,c892,c632,c1...   \n",
       "2 -2687466858632038806  c15,c768,c769,c1363,c650,c1218,c2361,c11,c90,c...   \n",
       "3    -5698296155734268  c473,c1528,c528,c428,c295,c15,c101,c188,c146,c...   \n",
       "4 -6719100304248915192  c190,c147,c105,c219,c220,c101,c647,c219,c220,c...   \n",
       "\n",
       "                                                  wt  \\\n",
       "0  w305,w13549,w22752,w11,w7225,w2565,w1106,w16,w...   \n",
       "1  w377,w54,w285,w57,w349,w54,w108215,w6,w47986,w...   \n",
       "2  w875,w15450,w42394,w15863,w6,w95421,w25,w803,w...   \n",
       "3  w8646,w2744,w1462,w9,w54,w138,w54,w50,w110,w14...   \n",
       "4  w380,w54,w674,w133,w54,w134,w614,w54,w929,w307...   \n",
       "\n",
       "                                                  wn  \\\n",
       "0  c335,c101,c611,c189,c97,c144,c147,c101,c15,c76...   \n",
       "1  c1265,c518,c74,c131,c274,c57,c768,c769,c368,c3...   \n",
       "2  c693,c100,c279,c99,c189,c532,c101,c189,c145,c1...   \n",
       "3                                                NaN   \n",
       "4  c644,c1212,c253,c199,c431,c452,c424,c207,c2,c1...   \n",
       "\n",
       "                                                  cd  wd  \n",
       "0  w231,w54,w1681,w54,w11506,w5714,w7,w54,w744,w1... NaN  \n",
       "1                  w12508,w1380,w72,w27045,w276,w111 NaN  \n",
       "2  w140340,w54,w48398,w54,w140341,w54,w12856,w54,... NaN  \n",
       "3                                                NaN NaN  \n",
       "4  w4821,w1301,w16003,w928,w1961,w2565,w50803,w11... NaN  "
      ]
     },
     "execution_count": 5,
     "metadata": {},
     "output_type": "execute_result"
    }
   ],
   "source": [
    "df_question_train_set.head(5)"
   ]
  },
  {
   "cell_type": "code",
   "execution_count": 6,
   "metadata": {
    "collapsed": true
   },
   "outputs": [],
   "source": [
    "df_question_eval_set = pd.read_csv('ieee_zhihu_cup/question_eval_set.txt', header=None, names=['question_id', 'ct', 'wt', 'wn', 'cd', 'wd'],sep='\\t')"
   ]
  },
  {
   "cell_type": "code",
   "execution_count": 7,
   "metadata": {
    "collapsed": false,
    "scrolled": true
   },
   "outputs": [
    {
     "data": {
      "text/html": [
       "<div>\n",
       "<table border=\"1\" class=\"dataframe\">\n",
       "  <thead>\n",
       "    <tr style=\"text-align: right;\">\n",
       "      <th></th>\n",
       "      <th>topic_id</th>\n",
       "      <th>pid</th>\n",
       "      <th>cn</th>\n",
       "      <th>wn</th>\n",
       "      <th>cd</th>\n",
       "      <th>wd</th>\n",
       "    </tr>\n",
       "  </thead>\n",
       "  <tbody>\n",
       "    <tr>\n",
       "      <th>40</th>\n",
       "      <td>-1315223959315847746</td>\n",
       "      <td>NaN</td>\n",
       "      <td>c179,c8</td>\n",
       "      <td>w1273</td>\n",
       "      <td>c238,c239</td>\n",
       "      <td>w149,w150</td>\n",
       "    </tr>\n",
       "    <tr>\n",
       "      <th>41</th>\n",
       "      <td>-315342960042848847</td>\n",
       "      <td>NaN</td>\n",
       "      <td>c172,c327</td>\n",
       "      <td>w486</td>\n",
       "      <td>c172,c327,c102,c103,c104,c104,c97,c246,c147,c1...</td>\n",
       "      <td>w486,w55,w1519,w58,w2,w7,w1520,w6,w1396,w278,w...</td>\n",
       "    </tr>\n",
       "    <tr>\n",
       "      <th>85</th>\n",
       "      <td>-8412622048338198339</td>\n",
       "      <td>NaN</td>\n",
       "      <td>c327,c509</td>\n",
       "      <td>w2735</td>\n",
       "      <td>c41,c42,c43,c327,c509,c806,c4,c122,c50,c731,c1...</td>\n",
       "      <td>w2735,w1350,w2838,w2839,w2840,w33,w2841,w268,w...</td>\n",
       "    </tr>\n",
       "    <tr>\n",
       "      <th>87</th>\n",
       "      <td>9030484820615456959</td>\n",
       "      <td>NaN</td>\n",
       "      <td>c229,c640,c1332,c1333</td>\n",
       "      <td>w2854</td>\n",
       "      <td>c238,c239</td>\n",
       "      <td>w149,w150</td>\n",
       "    </tr>\n",
       "    <tr>\n",
       "      <th>117</th>\n",
       "      <td>-8209651626505353779</td>\n",
       "      <td>NaN</td>\n",
       "      <td>c837,c520</td>\n",
       "      <td>w3476</td>\n",
       "      <td>c837,c520,c4,c5,c880,c652,c857,c2,c157,c28,c61...</td>\n",
       "      <td>w3476,w2,w1229,w3264,w90,w16,w1666,w3477,w602,...</td>\n",
       "    </tr>\n",
       "  </tbody>\n",
       "</table>\n",
       "</div>"
      ],
      "text/plain": [
       "                topic_id  pid                     cn     wn  \\\n",
       "40  -1315223959315847746  NaN                c179,c8  w1273   \n",
       "41   -315342960042848847  NaN              c172,c327   w486   \n",
       "85  -8412622048338198339  NaN              c327,c509  w2735   \n",
       "87   9030484820615456959  NaN  c229,c640,c1332,c1333  w2854   \n",
       "117 -8209651626505353779  NaN              c837,c520  w3476   \n",
       "\n",
       "                                                    cd  \\\n",
       "40                                           c238,c239   \n",
       "41   c172,c327,c102,c103,c104,c104,c97,c246,c147,c1...   \n",
       "85   c41,c42,c43,c327,c509,c806,c4,c122,c50,c731,c1...   \n",
       "87                                           c238,c239   \n",
       "117  c837,c520,c4,c5,c880,c652,c857,c2,c157,c28,c61...   \n",
       "\n",
       "                                                    wd  \n",
       "40                                           w149,w150  \n",
       "41   w486,w55,w1519,w58,w2,w7,w1520,w6,w1396,w278,w...  \n",
       "85   w2735,w1350,w2838,w2839,w2840,w33,w2841,w268,w...  \n",
       "87                                           w149,w150  \n",
       "117  w3476,w2,w1229,w3264,w90,w16,w1666,w3477,w602,...  "
      ]
     },
     "execution_count": 7,
     "metadata": {},
     "output_type": "execute_result"
    }
   ],
   "source": [
    "df_topics.ix[df_topics['pid'].isnull()].head(5)"
   ]
  },
  {
   "cell_type": "markdown",
   "metadata": {},
   "source": [
    "### 为 train set 中的question_id 建索引\n",
    "### 为 eval  set 中的question_id 建索引"
   ]
  },
  {
   "cell_type": "code",
   "execution_count": 8,
   "metadata": {
    "collapsed": true
   },
   "outputs": [],
   "source": [
    "idx_question_train_set_qid = df_question_train_set.set_index(['question_id']).index\n",
    "idx_question_eval_set_qid  = df_question_eval_set.set_index(['question_id']).index"
   ]
  },
  {
   "cell_type": "markdown",
   "metadata": {},
   "source": [
    "### 判断训练集与评估集是否有交集"
   ]
  },
  {
   "cell_type": "code",
   "execution_count": 9,
   "metadata": {
    "collapsed": false
   },
   "outputs": [
    {
     "data": {
      "text/html": [
       "<div>\n",
       "<table border=\"1\" class=\"dataframe\">\n",
       "  <thead>\n",
       "    <tr style=\"text-align: right;\">\n",
       "      <th></th>\n",
       "      <th>question_id</th>\n",
       "      <th>ct</th>\n",
       "      <th>wt</th>\n",
       "      <th>wn</th>\n",
       "      <th>cd</th>\n",
       "      <th>wd</th>\n",
       "    </tr>\n",
       "  </thead>\n",
       "  <tbody>\n",
       "  </tbody>\n",
       "</table>\n",
       "</div>"
      ],
      "text/plain": [
       "Empty DataFrame\n",
       "Columns: [question_id, ct, wt, wn, cd, wd]\n",
       "Index: []"
      ]
     },
     "execution_count": 9,
     "metadata": {},
     "output_type": "execute_result"
    }
   ],
   "source": [
    "df_question_train_set[idx_question_train_set_qid.isin(idx_question_eval_set_qid)]"
   ]
  },
  {
   "cell_type": "markdown",
   "metadata": {},
   "source": [
    "### 练习以下Pandas 语句， 研究 topic 的一些属性：\n",
    "\n",
    "1. 找到父结点为NaN的topic, 我们把这样的topic称作一级topic；\n",
    "\n",
    "2. 找到父结点为一级topic的topic我们把它称作二级topic;\n",
    "\n",
    "3. 找到父结点为二级topic的topic我们把它称作三级topic， 并统计数量;\n",
    "\n",
    "4. 找到topic标题字数小于3的topic,并显示总数\n",
    "\n"
   ]
  },
  {
   "cell_type": "code",
   "execution_count": 10,
   "metadata": {
    "collapsed": false
   },
   "outputs": [],
   "source": [
    "def finding_topics(row, pid):\n",
    "    return False if str(row).split(',') == [\"nan\"] else (pid in row)"
   ]
  },
  {
   "cell_type": "code",
   "execution_count": 11,
   "metadata": {
    "collapsed": false,
    "scrolled": true
   },
   "outputs": [
    {
     "data": {
      "text/plain": [
       "115"
      ]
     },
     "execution_count": 11,
     "metadata": {},
     "output_type": "execute_result"
    }
   ],
   "source": [
    "class_one_topic = df_topics.ix[df_topics['pid'].isnull()]\n",
    "class_one_id = class_one_topic[['topic_id']]\n",
    "len(class_one_id)"
   ]
  },
  {
   "cell_type": "code",
   "execution_count": 20,
   "metadata": {
    "collapsed": false
   },
   "outputs": [
    {
     "data": {
      "text/plain": [
       "40    -1315223959315847746\n",
       "41     -315342960042848847\n",
       "85    -8412622048338198339\n",
       "87     9030484820615456959\n",
       "117   -8209651626505353779\n",
       "Name: topic_id, dtype: int64"
      ]
     },
     "execution_count": 20,
     "metadata": {},
     "output_type": "execute_result"
    }
   ],
   "source": [
    "class_one_id.topic_id.head(5)"
   ]
  },
  {
   "cell_type": "code",
   "execution_count": null,
   "metadata": {
    "collapsed": true
   },
   "outputs": [],
   "source": []
  },
  {
   "cell_type": "code",
   "execution_count": 12,
   "metadata": {
    "collapsed": false
   },
   "outputs": [
    {
     "data": {
      "text/plain": [
       "316"
      ]
     },
     "execution_count": 12,
     "metadata": {},
     "output_type": "execute_result"
    }
   ],
   "source": [
    "class_two = []\n",
    "for pid in class_one_id.topic_id:\n",
    "    class_two.append(df_topics[df_topics.pid.apply(finding_topics, args=[str(pid)])])\n",
    "class_two_topic = pd.concat(class_two)\n",
    "class_two_id = class_two_topic[['topic_id']]\n",
    "len(class_two_id)"
   ]
  },
  {
   "cell_type": "code",
   "execution_count": 13,
   "metadata": {
    "collapsed": false,
    "scrolled": true
   },
   "outputs": [
    {
     "data": {
      "text/plain": [
       "536"
      ]
     },
     "execution_count": 13,
     "metadata": {},
     "output_type": "execute_result"
    }
   ],
   "source": [
    "class_three = []\n",
    "for pid in class_two_id.topic_id:\n",
    "    class_three.append(df_topics[df_topics.pid.apply(finding_topics, args=[str(pid)])])\n",
    "class_three_topic = pd.concat(class_three)\n",
    "class_three_id = class_three_topic[['topic_id']]\n",
    "len(class_three_id)"
   ]
  },
  {
   "cell_type": "code",
   "execution_count": 14,
   "metadata": {
    "collapsed": false
   },
   "outputs": [
    {
     "data": {
      "text/plain": [
       "787"
      ]
     },
     "execution_count": 14,
     "metadata": {},
     "output_type": "execute_result"
    }
   ],
   "source": [
    "def fun(row):\n",
    "    return (len(row.split(','))<3)\n",
    "topic_less_than_three_words = df_topics[df_topics.cn.apply(fun)]\n",
    "len(topic_less_than_three_words)"
   ]
  },
  {
   "cell_type": "markdown",
   "metadata": {},
   "source": [
    "### 根据 topic 找 questions\n",
    "1. 找到所有一级结点topic的question \n",
    "2. 找到所有二级结点topic的question"
   ]
  },
  {
   "cell_type": "code",
   "execution_count": 15,
   "metadata": {
    "collapsed": false
   },
   "outputs": [
    {
     "data": {
      "text/html": [
       "<div>\n",
       "<table border=\"1\" class=\"dataframe\">\n",
       "  <thead>\n",
       "    <tr style=\"text-align: right;\">\n",
       "      <th></th>\n",
       "      <th>question_id</th>\n",
       "      <th>topic_id</th>\n",
       "    </tr>\n",
       "  </thead>\n",
       "  <tbody>\n",
       "    <tr>\n",
       "      <th>0</th>\n",
       "      <td>6555699376639805223</td>\n",
       "      <td>7739004195693774975,3738968195649774859</td>\n",
       "    </tr>\n",
       "    <tr>\n",
       "      <th>1</th>\n",
       "      <td>2887834264226772863</td>\n",
       "      <td>-3149765934180654494</td>\n",
       "    </tr>\n",
       "    <tr>\n",
       "      <th>2</th>\n",
       "      <td>-2687466858632038806</td>\n",
       "      <td>-760432988437306018</td>\n",
       "    </tr>\n",
       "    <tr>\n",
       "      <th>3</th>\n",
       "      <td>-5698296155734268</td>\n",
       "      <td>-6758942141122113907,3195914392210930723</td>\n",
       "    </tr>\n",
       "    <tr>\n",
       "      <th>4</th>\n",
       "      <td>-6719100304248915192</td>\n",
       "      <td>3804601920633030746,4797226510592237555,435133...</td>\n",
       "    </tr>\n",
       "  </tbody>\n",
       "</table>\n",
       "</div>"
      ],
      "text/plain": [
       "           question_id                                           topic_id\n",
       "0  6555699376639805223            7739004195693774975,3738968195649774859\n",
       "1  2887834264226772863                               -3149765934180654494\n",
       "2 -2687466858632038806                                -760432988437306018\n",
       "3    -5698296155734268           -6758942141122113907,3195914392210930723\n",
       "4 -6719100304248915192  3804601920633030746,4797226510592237555,435133..."
      ]
     },
     "execution_count": 15,
     "metadata": {},
     "output_type": "execute_result"
    }
   ],
   "source": [
    "df_question_topic = pd.read_csv('ieee_zhihu_cup/question_topic_train_set.txt', header=None, names=['question_id', 'topic_id'],sep='\\t')\n",
    "df_question_topic.head(5)"
   ]
  },
  {
   "cell_type": "code",
   "execution_count": 16,
   "metadata": {
    "collapsed": false
   },
   "outputs": [
    {
     "data": {
      "text/plain": [
       "354700"
      ]
     },
     "execution_count": 16,
     "metadata": {},
     "output_type": "execute_result"
    }
   ],
   "source": [
    "def find_questions(row, topic_id):\n",
    "    return (topic_id in row)\n",
    "class_one_partial_questions = []\n",
    "for topic in class_one_topic.topic_id:\n",
    "    class_one_partial_questions.append(df_question_topic[df_question_topic.topic_id.apply(find_questions, args=[str(topic)])])\n",
    "class_one_questions = pd.concat(class_one_partial_questions)\n",
    "len(class_one_questions)"
   ]
  },
  {
   "cell_type": "code",
   "execution_count": 17,
   "metadata": {
    "collapsed": false
   },
   "outputs": [
    {
     "data": {
      "text/plain": [
       "(1240773, 2)"
      ]
     },
     "execution_count": 17,
     "metadata": {},
     "output_type": "execute_result"
    }
   ],
   "source": [
    "class_two_partial_questions = []\n",
    "for topic in class_two_topic.topic_id:\n",
    "    class_two_partial_questions.append(df_question_topic[df_question_topic.topic_id.apply(find_questions, args=[str(topic)])])\n",
    "class_two_questions = pd.concat(class_two_partial_questions)\n",
    "class_two_questions.shape"
   ]
  },
  {
   "cell_type": "markdown",
   "metadata": {},
   "source": [
    "### 根据 topic 继承关系找 questions\n",
    "给定一个topic，找到此topic下的所有子topic \n",
    "\n",
    "给定一个topic, 找到此topic下的所有文章，包含子topic的文章\n",
    "\n",
    "找到没有子topic的topic"
   ]
  },
  {
   "cell_type": "markdown",
   "metadata": {
    "collapsed": true
   },
   "source": [
    "\n",
    "\n",
    "    "
   ]
  },
  {
   "cell_type": "markdown",
   "metadata": {},
   "source": [
    "The next cell finds the subtopic of one specific topic id"
   ]
  },
  {
   "cell_type": "code",
   "execution_count": 18,
   "metadata": {
    "collapsed": false
   },
   "outputs": [
    {
     "name": "stdout",
     "output_type": "stream",
     "text": [
      "Enter topic_id: 4738849194894773882\n"
     ]
    },
    {
     "data": {
      "text/plain": [
       "0"
      ]
     },
     "execution_count": 18,
     "metadata": {},
     "output_type": "execute_result"
    }
   ],
   "source": [
    "pid = input(\"Enter topic_id: \")\n",
    "topics = df_topics[df_topics.pid.apply(finding_topics, args=[str(pid)])]\n",
    "len(topics)"
   ]
  },
  {
   "cell_type": "markdown",
   "metadata": {},
   "source": [
    "The next cell finds all topics with no sub topic"
   ]
  },
  {
   "cell_type": "code",
   "execution_count": 19,
   "metadata": {
    "collapsed": false
   },
   "outputs": [
    {
     "data": {
      "text/plain": [
       "1168"
      ]
     },
     "execution_count": 19,
     "metadata": {},
     "output_type": "execute_result"
    }
   ],
   "source": [
    "def no_subtopic(row, data):\n",
    "    topics = df_topics[df_topics.pid.apply(finding_topics, args=[str(row)])]\n",
    "    return topics.empty\n",
    "topic_no_subtopic = df_topics[df_topics.topic_id.apply(no_subtopic, args=[df_topics])]\n",
    "len(topic_no_subtopic)"
   ]
  },
  {
   "cell_type": "markdown",
   "metadata": {},
   "source": [
    "将训练集分为60% 的训练集， 40% 测试集"
   ]
  },
  {
   "cell_type": "code",
   "execution_count": 78,
   "metadata": {
    "collapsed": false
   },
   "outputs": [
    {
     "name": "stdout",
     "output_type": "stream",
     "text": [
      "17999802 10799880 7199922\n"
     ]
    }
   ],
   "source": [
    "train, test = train_test_split(df_question_train_set, test_size = 0.4)\n",
    "print(df_question_train_set.size, train.size, test.size)"
   ]
  },
  {
   "cell_type": "markdown",
   "metadata": {
    "collapsed": true
   },
   "source": [
    "### Pandas 内存的使用与 Python 垃圾回收\n",
    "删除 df_question_train_set 以节省内存，但是执行\n",
    "```\n",
    "del df_question_train_set\n",
    "```\n",
    "后内存占用量并没有减少。这是因为 train test 与 del df_question_train_set 使用的是同块内存。\n",
    "\n",
    "执行以下三句，\n",
    "```\n",
    "del df_question_train_set\n",
    "del train\n",
    "del test\n",
    "```\n",
    "并\n",
    "```\n",
    "gc.collect()\n",
    "```\n",
    "内存才降下来"
   ]
  },
  {
   "cell_type": "markdown",
   "metadata": {
    "collapsed": true
   },
   "source": [
    "### 判断标签是否在问题标题中出现，并统计在训练集中标签在问题标题中出现的情况"
   ]
  },
  {
   "cell_type": "code",
   "execution_count": 79,
   "metadata": {
    "collapsed": false
   },
   "outputs": [
    {
     "data": {
      "text/html": [
       "<div>\n",
       "<table border=\"1\" class=\"dataframe\">\n",
       "  <thead>\n",
       "    <tr style=\"text-align: right;\">\n",
       "      <th></th>\n",
       "      <th>question_id</th>\n",
       "      <th>ct</th>\n",
       "      <th>wt</th>\n",
       "      <th>wn</th>\n",
       "      <th>cd</th>\n",
       "      <th>wd</th>\n",
       "    </tr>\n",
       "  </thead>\n",
       "  <tbody>\n",
       "    <tr>\n",
       "      <th>1948779</th>\n",
       "      <td>-4379959198707340134</td>\n",
       "      <td>c15,c768,c769,c323,c324,c935,c652,c672,c504,c7...</td>\n",
       "      <td>w875,w216,w3248,w686,w1321,w19247,w13480,w11,w...</td>\n",
       "      <td>c2047</td>\n",
       "      <td>w7464</td>\n",
       "      <td>NaN</td>\n",
       "    </tr>\n",
       "    <tr>\n",
       "      <th>2720224</th>\n",
       "      <td>-8563951598849650772</td>\n",
       "      <td>c15,c768,c769,c773,c767,c2984,c370,c139,c11,c1...</td>\n",
       "      <td>w875,w25350,w39967,w2750,w6,w20035,w11,w2895,w...</td>\n",
       "      <td>c406,c485,c295,c4,c1824,c17,c15,c768,c769,c107...</td>\n",
       "      <td>w16956,w192,w20035,w11,w875,w11015,w13449,w575...</td>\n",
       "      <td>NaN</td>\n",
       "    </tr>\n",
       "    <tr>\n",
       "      <th>691217</th>\n",
       "      <td>717675333030525069</td>\n",
       "      <td>c2305,c115,c60,c3308,c115,c60,c413,c2520,c2005...</td>\n",
       "      <td>w210595,w33,w58208,w33,w93573,w11801,w9441,w50...</td>\n",
       "      <td>NaN</td>\n",
       "      <td>NaN</td>\n",
       "      <td>NaN</td>\n",
       "    </tr>\n",
       "    <tr>\n",
       "      <th>2952996</th>\n",
       "      <td>306331496541967920</td>\n",
       "      <td>c518,c419,c270,c480,c85,c924,c137,c11,c839,c27...</td>\n",
       "      <td>w471,w94571,w239,w3354,w6,w18860,w111</td>\n",
       "      <td>c212,c518,c2750,c625,c671,c993,c17,c953,c1362,...</td>\n",
       "      <td>w3105,w90472,w28001,w11,w218992,w166,w2030,w6,...</td>\n",
       "      <td>NaN</td>\n",
       "    </tr>\n",
       "    <tr>\n",
       "      <th>712749</th>\n",
       "      <td>3878133055478022291</td>\n",
       "      <td>c931,c485,c302,c206,c824,c1419,c363,c37,c71,c1...</td>\n",
       "      <td>w1370,w222,w36901,w5715,w53637,w4016</td>\n",
       "      <td>c931,c485,c302,c206,c824,c1419,c363,c37,c71,c1...</td>\n",
       "      <td>w1370,w222,w36901,w5715,w53637,w1336,w1912,w11...</td>\n",
       "      <td>NaN</td>\n",
       "    </tr>\n",
       "  </tbody>\n",
       "</table>\n",
       "</div>"
      ],
      "text/plain": [
       "                 question_id  \\\n",
       "1948779 -4379959198707340134   \n",
       "2720224 -8563951598849650772   \n",
       "691217    717675333030525069   \n",
       "2952996   306331496541967920   \n",
       "712749   3878133055478022291   \n",
       "\n",
       "                                                        ct  \\\n",
       "1948779  c15,c768,c769,c323,c324,c935,c652,c672,c504,c7...   \n",
       "2720224  c15,c768,c769,c773,c767,c2984,c370,c139,c11,c1...   \n",
       "691217   c2305,c115,c60,c3308,c115,c60,c413,c2520,c2005...   \n",
       "2952996  c518,c419,c270,c480,c85,c924,c137,c11,c839,c27...   \n",
       "712749   c931,c485,c302,c206,c824,c1419,c363,c37,c71,c1...   \n",
       "\n",
       "                                                        wt  \\\n",
       "1948779  w875,w216,w3248,w686,w1321,w19247,w13480,w11,w...   \n",
       "2720224  w875,w25350,w39967,w2750,w6,w20035,w11,w2895,w...   \n",
       "691217   w210595,w33,w58208,w33,w93573,w11801,w9441,w50...   \n",
       "2952996              w471,w94571,w239,w3354,w6,w18860,w111   \n",
       "712749                w1370,w222,w36901,w5715,w53637,w4016   \n",
       "\n",
       "                                                        wn  \\\n",
       "1948779                                              c2047   \n",
       "2720224  c406,c485,c295,c4,c1824,c17,c15,c768,c769,c107...   \n",
       "691217                                                 NaN   \n",
       "2952996  c212,c518,c2750,c625,c671,c993,c17,c953,c1362,...   \n",
       "712749   c931,c485,c302,c206,c824,c1419,c363,c37,c71,c1...   \n",
       "\n",
       "                                                        cd  wd  \n",
       "1948779                                              w7464 NaN  \n",
       "2720224  w16956,w192,w20035,w11,w875,w11015,w13449,w575... NaN  \n",
       "691217                                                 NaN NaN  \n",
       "2952996  w3105,w90472,w28001,w11,w218992,w166,w2030,w6,... NaN  \n",
       "712749   w1370,w222,w36901,w5715,w53637,w1336,w1912,w11... NaN  "
      ]
     },
     "execution_count": 79,
     "metadata": {},
     "output_type": "execute_result"
    }
   ],
   "source": [
    "train.head(5)"
   ]
  },
  {
   "cell_type": "markdown",
   "metadata": {},
   "source": [
    "### 判断标签是否在问题描述中出现，并统计在训练集中标签在问题描述中出现的情况"
   ]
  },
  {
   "cell_type": "code",
   "execution_count": null,
   "metadata": {
    "collapsed": true
   },
   "outputs": [],
   "source": []
  },
  {
   "cell_type": "markdown",
   "metadata": {},
   "source": [
    "### 针对topic， 分别用字与词制作词汇表。这是两个超级稀疏的矩阵"
   ]
  },
  {
   "cell_type": "code",
   "execution_count": null,
   "metadata": {
    "collapsed": false
   },
   "outputs": [],
   "source": []
  },
  {
   "cell_type": "markdown",
   "metadata": {
    "collapsed": true
   },
   "source": [
    "### Jupyter Notebook 技巧\n",
    "> 在菜单上点 help->keyboart shotcuts 可以学到很多的快捷键，快捷键的使用情况体现了一个人在软件工具的专业程度。不一定一次全学会，可以每次先学一点儿。比如今天先学会以，如何使用快捷键将一个cell 转成markdown 或者将转成code."
   ]
  },
  {
   "cell_type": "markdown",
   "metadata": {},
   "source": [
    "### 参考文献：\n",
    "\n",
    "http://blog.csdn.net/u013713117/article/details/55049808\n",
    "\n",
    "https://www.kaggle.com/c/facebook-recruiting-iii-keyword-extraction/discussion/6650"
   ]
  },
  {
   "cell_type": "code",
   "execution_count": null,
   "metadata": {
    "collapsed": true
   },
   "outputs": [],
   "source": []
  }
 ],
 "metadata": {
  "anaconda-cloud": {},
  "kernelspec": {
   "display_name": "Python [default]",
   "language": "python",
   "name": "python3"
  },
  "language_info": {
   "codemirror_mode": {
    "name": "ipython",
    "version": 3
   },
   "file_extension": ".py",
   "mimetype": "text/x-python",
   "name": "python",
   "nbconvert_exporter": "python",
   "pygments_lexer": "ipython3",
   "version": "3.5.2"
  }
 },
 "nbformat": 4,
 "nbformat_minor": 1
}
